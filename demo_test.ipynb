{
 "cells": [
  {
   "cell_type": "code",
   "execution_count": 3,
   "id": "9b45a2fa",
   "metadata": {},
   "outputs": [
    {
     "name": "stderr",
     "output_type": "stream",
     "text": [
      "[nltk_data] Downloading package stopwords to\n",
      "[nltk_data]     /Users/himanshubag/nltk_data...\n",
      "[nltk_data]   Unzipping corpora/stopwords.zip.\n",
      "[nltk_data] Downloading package punkt to\n",
      "[nltk_data]     /Users/himanshubag/nltk_data...\n",
      "[nltk_data]   Unzipping tokenizers/punkt.zip.\n"
     ]
    },
    {
     "data": {
      "text/plain": [
       "True"
      ]
     },
     "execution_count": 3,
     "metadata": {},
     "output_type": "execute_result"
    }
   ],
   "source": [
    "import nltk\n",
    "nltk.download('stopwords')\n",
    "nltk.download('punkt')"
   ]
  },
  {
   "cell_type": "code",
   "execution_count": 4,
   "id": "eda46301",
   "metadata": {},
   "outputs": [],
   "source": [
    "from nltk.tokenize import word_tokenize\n",
    "from nltk.corpus import stopwords\n",
    "import string\n",
    "import re\n",
    "import pandas as pd"
   ]
  },
  {
   "cell_type": "code",
   "execution_count": 17,
   "id": "b455ae9d",
   "metadata": {},
   "outputs": [],
   "source": [
    "import os\n",
    "\n",
    "dir_ = './data/'\n",
    "directory = os.fsencode(dir_)\n",
    "file_name = []\n",
    "for file in os.listdir(directory):\n",
    "    filename = os.fsdecode(file)\n",
    "#     print(filename)\n",
    "    if filename.endswith(\".csv\"):\n",
    "        file_name.append(filename)\n",
    "    "
   ]
  },
  {
   "cell_type": "code",
   "execution_count": 18,
   "id": "dc1f0bea",
   "metadata": {},
   "outputs": [
    {
     "data": {
      "text/plain": [
       "['tweets_topic_p_software engineer.csv',\n",
       " 'tweets_topic_p_Machine Learning.csv',\n",
       " 'tweet_user_0x1h0b.csv',\n",
       " 'tweet_topic_r_Leo messi.csv',\n",
       " 'tweet_user_BarcaUniversal.csv',\n",
       " 'tweet_topic_r_software engineer.csv',\n",
       " 'tweet_topic_r_Machine Learning.csv',\n",
       " 'tweet_user_br4ve_travel3r.csv',\n",
       " 'tweets_topic_p_Leo messi.csv']"
      ]
     },
     "execution_count": 18,
     "metadata": {},
     "output_type": "execute_result"
    }
   ],
   "source": [
    "file_name"
   ]
  },
  {
   "cell_type": "code",
   "execution_count": 24,
   "id": "f46a07cb",
   "metadata": {},
   "outputs": [],
   "source": [
    "file = file_name[2]"
   ]
  },
  {
   "cell_type": "markdown",
   "id": "27795fda",
   "metadata": {},
   "source": [
    "## Start analysis"
   ]
  },
  {
   "cell_type": "code",
   "execution_count": 25,
   "id": "a25e13c2",
   "metadata": {},
   "outputs": [
    {
     "name": "stdout",
     "output_type": "stream",
     "text": [
      "<class 'pandas.core.frame.DataFrame'>\n",
      "RangeIndex: 149 entries, 0 to 148\n",
      "Data columns (total 3 columns):\n",
      " #   Column    Non-Null Count  Dtype \n",
      "---  ------    --------------  ----- \n",
      " 0   text      149 non-null    object\n",
      " 1   time      149 non-null    object\n",
      " 2   entities  149 non-null    object\n",
      "dtypes: object(3)\n",
      "memory usage: 3.6+ KB\n"
     ]
    }
   ],
   "source": [
    "df = pd.read_csv(dir_+file)\n",
    "df.info()"
   ]
  },
  {
   "cell_type": "code",
   "execution_count": 26,
   "id": "60408a09",
   "metadata": {},
   "outputs": [
    {
     "data": {
      "text/html": [
       "<div>\n",
       "<style scoped>\n",
       "    .dataframe tbody tr th:only-of-type {\n",
       "        vertical-align: middle;\n",
       "    }\n",
       "\n",
       "    .dataframe tbody tr th {\n",
       "        vertical-align: top;\n",
       "    }\n",
       "\n",
       "    .dataframe thead th {\n",
       "        text-align: right;\n",
       "    }\n",
       "</style>\n",
       "<table border=\"1\" class=\"dataframe\">\n",
       "  <thead>\n",
       "    <tr style=\"text-align: right;\">\n",
       "      <th></th>\n",
       "      <th>text</th>\n",
       "      <th>time</th>\n",
       "      <th>entities</th>\n",
       "    </tr>\n",
       "  </thead>\n",
       "  <tbody>\n",
       "    <tr>\n",
       "      <th>0</th>\n",
       "      <td>@br4ve_travel3r It must be from his time… gen A</td>\n",
       "      <td>2022-11-07 16:52:37+00:00</td>\n",
       "      <td>{'hashtags': [], 'symbols': [], 'user_mentions...</td>\n",
       "    </tr>\n",
       "    <tr>\n",
       "      <th>1</th>\n",
       "      <td>So Youtube got some new visual effects …</td>\n",
       "      <td>2022-11-01 15:14:03+00:00</td>\n",
       "      <td>{'hashtags': [], 'symbols': [], 'user_mentions...</td>\n",
       "    </tr>\n",
       "    <tr>\n",
       "      <th>2</th>\n",
       "      <td>@kwatra_ Football hota hai ?</td>\n",
       "      <td>2022-10-17 07:09:53+00:00</td>\n",
       "      <td>{'hashtags': [], 'symbols': [], 'user_mentions...</td>\n",
       "    </tr>\n",
       "    <tr>\n",
       "      <th>3</th>\n",
       "      <td>Is sports betting allowed in india ?</td>\n",
       "      <td>2022-10-16 11:27:21+00:00</td>\n",
       "      <td>{'hashtags': [], 'symbols': [], 'user_mentions...</td>\n",
       "    </tr>\n",
       "    <tr>\n",
       "      <th>4</th>\n",
       "      <td>Leo Messi - “ One last dance 💔”\\n#WorldcupQata...</td>\n",
       "      <td>2022-10-10 19:04:43+00:00</td>\n",
       "      <td>{'hashtags': [{'text': 'WorldcupQatar2022', 'i...</td>\n",
       "    </tr>\n",
       "  </tbody>\n",
       "</table>\n",
       "</div>"
      ],
      "text/plain": [
       "                                                text  \\\n",
       "0    @br4ve_travel3r It must be from his time… gen A   \n",
       "1           So Youtube got some new visual effects …   \n",
       "2                       @kwatra_ Football hota hai ?   \n",
       "3               Is sports betting allowed in india ?   \n",
       "4  Leo Messi - “ One last dance 💔”\\n#WorldcupQata...   \n",
       "\n",
       "                        time  \\\n",
       "0  2022-11-07 16:52:37+00:00   \n",
       "1  2022-11-01 15:14:03+00:00   \n",
       "2  2022-10-17 07:09:53+00:00   \n",
       "3  2022-10-16 11:27:21+00:00   \n",
       "4  2022-10-10 19:04:43+00:00   \n",
       "\n",
       "                                            entities  \n",
       "0  {'hashtags': [], 'symbols': [], 'user_mentions...  \n",
       "1  {'hashtags': [], 'symbols': [], 'user_mentions...  \n",
       "2  {'hashtags': [], 'symbols': [], 'user_mentions...  \n",
       "3  {'hashtags': [], 'symbols': [], 'user_mentions...  \n",
       "4  {'hashtags': [{'text': 'WorldcupQatar2022', 'i...  "
      ]
     },
     "execution_count": 26,
     "metadata": {},
     "output_type": "execute_result"
    }
   ],
   "source": [
    "df.head()"
   ]
  },
  {
   "cell_type": "code",
   "execution_count": 27,
   "id": "95aad93e",
   "metadata": {},
   "outputs": [
    {
     "data": {
      "text/plain": [
       "149"
      ]
     },
     "execution_count": 27,
     "metadata": {},
     "output_type": "execute_result"
    }
   ],
   "source": [
    "all_text = df['text'].values\n",
    "len(all_text)"
   ]
  },
  {
   "cell_type": "code",
   "execution_count": 31,
   "id": "28586094",
   "metadata": {},
   "outputs": [
    {
     "data": {
      "text/plain": [
       "array(['@br4ve_travel3r It must be from his time… gen A',\n",
       "       'So Youtube got some new visual effects …',\n",
       "       '@kwatra_ Football hota hai ?',\n",
       "       'Is sports betting allowed in india ?',\n",
       "       'Leo Messi - “ One last dance 💔”\\n#WorldcupQatar2022 #football https://t.co/kUoc3ez5iI',\n",
       "       'RT @BarcaUniversal: FIFA claims that an accidental handball by a teammate just before a player scores is not considered an infraction, henc…',\n",
       "       'Haaland is a beast… mbappe who?\\n#ManchesterDerby \\nKdb haaland link up is the most deadliest thing in the current football.. absolute masterpiece 🔥🔥🔥',\n",
       "       '@kwatra_ Soft skills++',\n",
       "       'Text to video 🔥🔥 https://t.co/m8ZnOS1Hvt',\n",
       "       'https://t.co/tdVmb6aPrR https://t.co/7teFD8Pdt4'], dtype=object)"
      ]
     },
     "execution_count": 31,
     "metadata": {},
     "output_type": "execute_result"
    }
   ],
   "source": [
    "all_text[0:10]"
   ]
  },
  {
   "cell_type": "code",
   "execution_count": 32,
   "id": "024cdd33",
   "metadata": {},
   "outputs": [
    {
     "name": "stdout",
     "output_type": "stream",
     "text": [
      "211\n"
     ]
    }
   ],
   "source": [
    "stopword_all =  list(set(stopwords.words('english'))) \n",
    "stopword_all.extend(list(string.punctuation))\n",
    "print(len(stopword_all))"
   ]
  },
  {
   "cell_type": "code",
   "execution_count": 39,
   "id": "65a6b1e0",
   "metadata": {},
   "outputs": [],
   "source": [
    "def clean_text(text):\n",
    "    text = text.lower()\n",
    "    text = re.sub(r'#',' # ',text)\n",
    "    text= re.sub(r\"(#[\\d\\w\\.]+)\", '', text)\n",
    "    text = re.sub(r\"(@[\\d\\w\\.]+)\", '', text)\n",
    "    text = word_tokenize(text)\n",
    "    text = [word for word in text if word not in stopword_all]\n",
    "#     print(text)\n",
    "    text = ' '.join(text)\n",
    "    return text"
   ]
  },
  {
   "cell_type": "code",
   "execution_count": 40,
   "id": "60ea51b0",
   "metadata": {},
   "outputs": [
    {
     "data": {
      "text/plain": [
       "'leo messi “ one last dance 💔 ” worldcupqatar2022 football https //t.co/kuoc3ez5ii'"
      ]
     },
     "execution_count": 40,
     "metadata": {},
     "output_type": "execute_result"
    }
   ],
   "source": [
    "clean_text(all_text[4])"
   ]
  },
  {
   "cell_type": "code",
   "execution_count": 37,
   "id": "f80d1605",
   "metadata": {},
   "outputs": [
    {
     "data": {
      "text/plain": [
       "\"{'hashtags': [{'text': 'WorldcupQatar2022', 'indices': [32, 50]}, {'text': 'football', 'indices': [51, 60]}], 'symbols': [], 'user_mentions': [], 'urls': [], 'media': [{'id': 1579548490237378560, 'id_str': '1579548490237378560', 'indices': [61, 84], 'media_url': 'http://pbs.twimg.com/media/Feuu-6oagAAwDT-.jpg', 'media_url_https': 'https://pbs.twimg.com/media/Feuu-6oagAAwDT-.jpg', 'url': 'https://t.co/kUoc3ez5iI', 'display_url': 'pic.twitter.com/kUoc3ez5iI', 'expanded_url': 'https://twitter.com/0x1h0b/status/1579548499187994624/photo/1', 'type': 'photo', 'sizes': {'thumb': {'w': 150, 'h': 150, 'resize': 'crop'}, 'medium': {'w': 1076, 'h': 764, 'resize': 'fit'}, 'small': {'w': 680, 'h': 483, 'resize': 'fit'}, 'large': {'w': 1076, 'h': 764, 'resize': 'fit'}}}]}\""
      ]
     },
     "execution_count": 37,
     "metadata": {},
     "output_type": "execute_result"
    }
   ],
   "source": [
    "df['entities'].values[4]"
   ]
  },
  {
   "cell_type": "code",
   "execution_count": null,
   "id": "069554cf",
   "metadata": {},
   "outputs": [],
   "source": []
  }
 ],
 "metadata": {
  "kernelspec": {
   "display_name": "Python 3.9.6 64-bit",
   "language": "python",
   "name": "python3"
  },
  "language_info": {
   "codemirror_mode": {
    "name": "ipython",
    "version": 3
   },
   "file_extension": ".py",
   "mimetype": "text/x-python",
   "name": "python",
   "nbconvert_exporter": "python",
   "pygments_lexer": "ipython3",
   "version": "3.9.6"
  },
  "vscode": {
   "interpreter": {
    "hash": "31f2aee4e71d21fbe5cf8b01ff0e069b9275f58929596ceb00d14d90e3e16cd6"
   }
  }
 },
 "nbformat": 4,
 "nbformat_minor": 5
}
